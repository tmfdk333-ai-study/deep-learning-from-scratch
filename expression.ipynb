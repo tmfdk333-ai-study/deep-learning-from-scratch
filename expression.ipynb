{
 "cells": [
  {
   "cell_type": "markdown",
   "metadata": {},
   "source": [
    "### 2장 퍼셉트론"
   ]
  },
  {
   "cell_type": "markdown",
   "metadata": {},
   "source": [
    "$\\\\y= \\begin{cases} 0\\,(w_1x_1+w_2x_2\\le\\theta) \\\\ 1\\,(w_1x_1+w_2x_2>\\theta) \\end{cases} \\\\ {_{[식\\,2.1]}}$"
   ]
  },
  {
   "cell_type": "markdown",
   "metadata": {},
   "source": [
    "$y= \\begin{cases} 0\\,(b+w_1x_1+w_2x_2\\le0) \\\\ 1\\,(b+w_1x_1+w_2x_2>0) \\end{cases} \\\\ {_{[식\\,2.2]}}$"
   ]
  },
  {
   "cell_type": "markdown",
   "metadata": {},
   "source": [
    "$y= \\begin{cases} 0\\,(-0.5+x_1+x_2\\le0) \\\\ 1\\,(-0.5+x_1+x_2>0) \\end{cases} \\\\ {_{[식\\, 2.3]}}$"
   ]
  },
  {
   "cell_type": "markdown",
   "metadata": {},
   "source": [
    "### 3장 신경망"
   ]
  },
  {
   "cell_type": "markdown",
   "metadata": {},
   "source": [
    "$y= \\begin{cases} 0\\,(b+w_1x_1+w_2x_2\\le0) \\\\ 1\\,(b+w_1x_1+w_2x_2>0) \\end{cases} \\\\ {_{[식\\,3.1]}}$"
   ]
  },
  {
   "cell_type": "markdown",
   "metadata": {},
   "source": [
    "$y=h(b+w_1x_1+w_2x_2) \\\\ {_{[식\\,3.2]}}$"
   ]
  },
  {
   "cell_type": "markdown",
   "metadata": {},
   "source": [
    "$h(x)= \\begin{cases} 0\\,(x\\le0) \\\\ 1\\,(x>0) \\end{cases} \\\\ {_{[식\\,3.3]}}$"
   ]
  },
  {
   "cell_type": "markdown",
   "metadata": {},
   "source": [
    "$a=b+w_1x_1+w_2x_2 \\\\ {_{[식\\,3.4]}}$"
   ]
  },
  {
   "cell_type": "markdown",
   "metadata": {},
   "source": [
    "$y=h(a) \\\\ {_{[식\\,3.5]}}$"
   ]
  },
  {
   "cell_type": "markdown",
   "metadata": {},
   "source": [
    "$h(x)=\\frac{1}{1+exp(-x)} \\\\ {_{[식\\,3.6]\\,sigmoid\\,function}}$"
   ]
  },
  {
   "cell_type": "markdown",
   "metadata": {},
   "source": [
    "$h(x) \\begin{cases} x\\,(x>0) \\\\ 0\\,(x\\le0) \\end{cases} \\\\ {_{[식\\,3.7]}}$"
   ]
  },
  {
   "cell_type": "markdown",
   "metadata": {},
   "source": [
    "$a^{(1)}_1=w^{(1)}_{11}x_1+w^{(1)}_{12}x_2+b^{(1)}_1 \\\\ {_{[식\\,3.8]}}$"
   ]
  },
  {
   "cell_type": "markdown",
   "metadata": {},
   "source": [
    "$\\mathbf{A}^{(1)} = \\mathbf{X} \\mathbf{W}^{(1)} + \\mathbf{B}^{(1)} \\\\ \\mathbf{A}^{(1)}= \\begin{pmatrix} {a^{(1)}_1} & {a^{(1)}_2} & {a^{(1)}_3} \\end{pmatrix},\\; \\mathbf{B}^{(1)}= \\begin{pmatrix} b^{(1)}_1 & b^{(1)}_2 & b^{(1)}_3 \\end{pmatrix} \\\\  \\mathbf{X}=\\begin{pmatrix}x_1 & x_2\\end{pmatrix},\\; \\mathbf{W}^{(1)}= \\begin{pmatrix} w^{(1)}_{11} & w^{(1)}_{21} & w^{(1)}_{31} \\\\ \\\\ w^{(1)}_{12} & w^{(1)}_{22} & w^{(1)}_{32} \\end{pmatrix} \\\\ {_{[식\\,3.9]}}$"
   ]
  },
  {
   "cell_type": "markdown",
   "metadata": {},
   "source": [
    "$y_k=\\frac{exp(a_k)}{\\sum_{i=1}^{n} exp(a_i)} \\\\ {_{exp(x)는\\ e^x를\\ 뜻하는\\ 지수\\ 함수(exponential\\ function)}} \\\\ {_{[식\\,3.10]}}$"
   ]
  },
  {
   "cell_type": "markdown",
   "metadata": {},
   "source": [
    "$\\begin{matrix}  y_k = \\frac{exp(a_k)}{\\sum_{i=1}^n exp(a_i)}  &=& \\frac{C\\,exp(a_k)}{C\\sum_{i=1}^n exp(a_i)} \\\\ \\\\ &=& \\frac{exp(a_k+\\log C)}{\\sum_{i=1}^n exp(a_i+\\log C)} \\\\ \\\\ &=& \\frac{exp(a_k+C')}{\\sum_{i=1}^n exp(a_i+C')}   \\end{matrix} \\\\ {_{보통\\ C는\\ 입력\\ 신호\\ 중\\ 최대값을\\ 사용}} \\\\ {_{[식\\,3.11]}}$"
   ]
  },
  {
   "cell_type": "markdown",
   "metadata": {},
   "source": [
    "### 4장 신경망 학습"
   ]
  },
  {
   "cell_type": "markdown",
   "metadata": {},
   "source": [
    "$E = \\frac{1}{2}\\sum_{k} (y_k-t_k)^2 \\\\ {_{[식\\,4.1]}}$"
   ]
  },
  {
   "cell_type": "markdown",
   "metadata": {},
   "source": [
    "$E=-\\sum_{k}{t_k\\log{y_k}} \\\\ {_{[식\\,4.2]}}$"
   ]
  },
  {
   "cell_type": "markdown",
   "metadata": {},
   "source": [
    "$E=-\\frac{1}{N}\\sum_{n}\\sum_{k} {t_{nk}\\log{y_{nk}}} \\\\ {_{[식\\,4.3]}}$"
   ]
  },
  {
   "cell_type": "markdown",
   "metadata": {},
   "source": [
    "$\\frac{df(x)}{dx}=\\lim_{h \\to 0}\\frac{f(x+h)-f(x)}{h} \\\\ {_{[식\\,4.4]}}$"
   ]
  },
  {
   "cell_type": "markdown",
   "metadata": {},
   "source": [
    "$y=0.01x^2+0.1x \\\\ {_{[식\\,4.5]}}$"
   ]
  },
  {
   "cell_type": "markdown",
   "metadata": {},
   "source": [
    "$f(x_0,\\ x_1)=x_0^2+x_1^2 \\\\ {_{[식\\,4.6]}}$"
   ]
  },
  {
   "cell_type": "markdown",
   "metadata": {},
   "source": [
    "${x_0=x_0-\\eta\\frac{\\partial f}{\\partial x_0}} \\\\ {x_1=x_1-\\eta\\frac{\\partial f}{\\partial x_1}} \\\\ {_{[식\\,4.7]}}$"
   ]
  },
  {
   "cell_type": "markdown",
   "metadata": {},
   "source": [
    "$\\mathbf{W} =  \\begin{pmatrix} w_{11} & w_{21} & w_{31} \\\\ w_{12} & w_{22} & w_{32} \\end{pmatrix} \\\\ \\frac{\\partial L}{\\partial W} =  \\begin{pmatrix} \\frac{\\partial L}{\\partial w_{11}} & \\frac{\\partial L}{\\partial w_{21}} & \\frac{\\partial L}{\\partial w_{31}} \\\\ \\\\ \\frac{\\partial L}{\\partial w_{12}} & \\frac{\\partial L}{\\partial w_{22}} & \\frac{\\partial L}{\\partial w_{32}} \\end{pmatrix} \\\\ {_{[식\\,4.8]}}$"
   ]
  },
  {
   "cell_type": "markdown",
   "metadata": {},
   "source": [
    "### 5장 오차역전파법"
   ]
  },
  {
   "cell_type": "markdown",
   "metadata": {},
   "source": [
    "$z=t^2,\\ t=x+y \\\\ {_{[식\\,5.1]}}$"
   ]
  },
  {
   "cell_type": "markdown",
   "metadata": {},
   "source": [
    "$\\frac{\\partial z}{\\partial x} = \\frac{\\partial z}{\\partial t} \\frac{\\partial t}{\\partial x}  \\\\ {_{[식\\,5.2]}}$"
   ]
  },
  {
   "cell_type": "markdown",
   "metadata": {},
   "source": [
    "$\\frac{\\partial z}{\\partial t} = 2t,\\ \\frac{\\partial t}{\\partial x} = 1  \\\\ {_{[식\\,5.3]}}$"
   ]
  },
  {
   "cell_type": "markdown",
   "metadata": {},
   "source": [
    "$\\frac{\\partial z}{\\partial x} = \\frac{\\partial z}{\\partial t} \\frac{\\partial t}{\\partial x} = 2t \\cdot 1 = 2(x+y) \\\\ {_{[식\\,5.4]}}$"
   ]
  },
  {
   "cell_type": "markdown",
   "metadata": {},
   "source": [
    "$\\frac{\\partial z}{\\partial x} = 1,\\ \\frac{\\partial z}{\\partial y} = 1  \\\\ {_{[식\\,5.5]}}$"
   ]
  },
  {
   "cell_type": "markdown",
   "metadata": {},
   "source": [
    "$\\frac{\\partial z}{\\partial x} = y,\\  \\frac{\\partial z}{\\partial y} = x  \\\\ {_{[식\\,5.6]}}$"
   ]
  },
  {
   "cell_type": "markdown",
   "metadata": {},
   "source": [
    "$y= \\begin{cases} x\\ (x>0) \\\\ 0\\ (x\\le0) \\end{cases} \\\\ {_{[식\\,5.7]}}$"
   ]
  },
  {
   "cell_type": "markdown",
   "metadata": {},
   "source": [
    "$\\frac{\\partial y}{\\partial x} =  \\begin{cases} 1\\ (x>0)\\\\ 0\\ (x\\le0) \\end{cases} \\\\ {_{[식\\,5.8]}}$"
   ]
  },
  {
   "cell_type": "markdown",
   "metadata": {},
   "source": [
    "$y= \\frac{1}{1+exp(-x)} \\\\ {_{[식\\,5.9]}}$"
   ]
  },
  {
   "cell_type": "markdown",
   "metadata": {},
   "source": [
    "$\\begin{matrix} \\frac{\\partial y}{\\partial x} &=& -\\frac{1}{x^2} &=& -y^2 \\end{matrix} \\\\ {_{[식\\,5.10]}}$"
   ]
  },
  {
   "cell_type": "markdown",
   "metadata": {},
   "source": [
    "$\\frac{\\partial y}{\\partial x} = exp(x) \\\\ {_{[식\\,5.11]}}$"
   ]
  },
  {
   "cell_type": "markdown",
   "metadata": {},
   "source": [
    "$\\begin{matrix} \\frac{\\partial L}{\\partial y} &=& \\frac{\\partial L}{\\partial y} \\frac{1}{(1+exp(-x))^2} exp(-x) \\\\ \\\\ &=& \\frac{\\partial L}{\\partial y} \\frac{1}{1+exp(-x)} \\frac{exp(-x)}{1+exp(-x)} \\\\ \\\\ &=& \\frac{\\partial L}{\\partial y} y(1-y) \\end{matrix} \\\\ {_{[식\\,5.12]}}$"
   ]
  },
  {
   "cell_type": "markdown",
   "metadata": {},
   "source": [
    "$\\frac{\\partial L}{{\\partial}{\\mathbf X}} =  \\frac{\\partial L}{{\\partial}{\\mathbf Y}} \\cdot {\\mathbf W}^{T} \\\\ \\frac{\\partial L}{{\\partial}{\\mathbf W}} = {\\mathbf X}^{T} \\cdot \\frac{\\partial Y}{{\\partial}{\\mathbf L}} \\\\ {_{[식\\,5.13]}}$"
   ]
  },
  {
   "cell_type": "markdown",
   "metadata": {},
   "source": [
    "$W = \\begin{pmatrix} w_{11} & w_{21} & w_{31} \\\\ w_{12} & w_{22} & w_{32} \\end{pmatrix} \\\\ W^T = \\begin{pmatrix} w_{11} & w_{12} \\\\ w_{21} & w_{22} \\\\ w_{31} & w_{32} \\end{pmatrix} \\\\ {_{[식\\,5.14]}}$"
   ]
  },
  {
   "cell_type": "markdown",
   "metadata": {},
   "source": [
    "${\\mathbf X} = (x_0,\\ x_1,\\ \\cdots,\\ x_n)\\\\ \\frac{\\partial L}{{\\partial}{\\mathbf X}} =  (\\frac{\\partial L}{\\partial x_0},\\ \\frac{\\partial L}{\\partial x_1},\\ \\cdots,\\ \\frac{\\partial L}{\\partial x_n}) \\\\ {_{[식\\,5.15]}}$"
   ]
  },
  {
   "cell_type": "markdown",
   "metadata": {},
   "source": [
    "### 6장 학습 관련 기술들"
   ]
  },
  {
   "cell_type": "markdown",
   "metadata": {},
   "source": [
    "${\\mathbf W}\\ {\\leftarrow} \\ {\\mathbf W} - {\\eta}\\frac{\\partial L}{{\\partial}{\\mathbf W}} \\\\ {_{[식\\,6.1]}}$"
   ]
  },
  {
   "cell_type": "markdown",
   "metadata": {},
   "source": [
    "$f(x,\\ y) = \\frac{1}{20}x^2+y^2 \\\\ {_{[식\\,6.2]}}$"
   ]
  },
  {
   "cell_type": "markdown",
   "metadata": {},
   "source": [
    "${\\mathbf v}\\ {\\leftarrow}\\ {\\alpha}{\\mathbf v} - {\\eta}\\frac{\\partial L}{{\\partial}{\\mathbf W}} \\\\ {_{[식\\,6.3]}}$"
   ]
  },
  {
   "cell_type": "markdown",
   "metadata": {},
   "source": [
    "${\\mathbf W}\\ {\\leftarrow}\\ {\\mathbf W} + {\\mathbf v} \\\\ {_{[식\\,6.4]}}$"
   ]
  },
  {
   "cell_type": "markdown",
   "metadata": {},
   "source": [
    "${\\mathbf h}\\ {\\leftarrow}\\ {\\mathbf h} + \\frac{\\partial L}{{\\partial}{\\mathbf W}} {\\odot} \\frac{\\partial L}{{\\partial}{\\mathbf W}} \\\\ {_{[식\\,6.5]}}$"
   ]
  },
  {
   "cell_type": "markdown",
   "metadata": {},
   "source": [
    "${\\mathbf W}\\ {\\leftarrow}\\ {\\mathbf W} - {\\eta}\\frac{1}{\\sqrt{\\mathbf h}} \\frac{\\partial L}{{\\partial}{\\mathbf W}} \\\\ {_{[식\\,6.6]}}$"
   ]
  },
  {
   "cell_type": "markdown",
   "metadata": {},
   "source": [
    "${\\mu_B}\\ {\\leftarrow}\\ \\frac{1}{m}{\\sum_{i=1}^{m} x_i}\\\\ {\\sigma_B^2}\\ {\\leftarrow}\\ \\frac{1}{m}{\\sum_{i=1}^{m}(x_i-\\mu_B)^2} \\\\ {\\hat{x_i}}\\ {\\leftarrow}\\ \\frac{x_i-\\mu_B}{\\sqrt{\\sigma_B^2 + \\varepsilon}} \\\\ {_{[식\\,6.7]}}$"
   ]
  },
  {
   "cell_type": "markdown",
   "metadata": {},
   "source": [
    "$y_i\\ {\\leftarrow}\\ \\gamma\\hat{x_i}+\\beta \\\\ {_{[식\\,6.8]}}$"
   ]
  },
  {
   "cell_type": "markdown",
   "metadata": {},
   "source": [
    "### 7장 합성곱 신경망(CNN)"
   ]
  },
  {
   "cell_type": "markdown",
   "metadata": {},
   "source": [
    "$OH = \\frac{H+2P-FH}{S} + 1 \\\\ OW = \\frac{W+2P-FW}{S} + 1 \\\\ {_{[식\\,7.1]}}$"
   ]
  },
  {
   "cell_type": "markdown",
   "metadata": {},
   "source": [
    "### Appendix"
   ]
  },
  {
   "cell_type": "markdown",
   "metadata": {},
   "source": [
    "$y_k=\\frac{exp(a_k)}{\\sum_{i=1}^{n} exp(a_i)} \\\\ {_{[식\\,a.1]}}$"
   ]
  },
  {
   "cell_type": "markdown",
   "metadata": {},
   "source": [
    "$L = -{\\sum_k t_k\\log y_k} \\\\ {_{[식\\,a.2]}}$"
   ]
  },
  {
   "cell_type": "markdown",
   "metadata": {},
   "source": [
    "$-\\frac{t_1}{y_1}exp(a_1) = -t_1\\frac{S}{exp(a_1)}exp(a_1) = -t_1S \\\\ {_{[식\\,a.3]}}$"
   ]
  },
  {
   "cell_type": "markdown",
   "metadata": {},
   "source": [
    "$y = exp(x),\\ \\frac{\\partial y}{\\partial x} = exp(x) \\\\ {_{[식\\,a.4]}}$"
   ]
  }
 ],
 "metadata": {
  "kernelspec": {
   "display_name": "Python 3",
   "language": "python",
   "name": "python3"
  },
  "language_info": {
   "codemirror_mode": {
    "name": "ipython",
    "version": 2
   },
   "file_extension": ".py",
   "mimetype": "text/x-python",
   "name": "python",
   "nbconvert_exporter": "python",
   "pygments_lexer": "ipython2",
   "version": "2.7.17"
  }
 },
 "nbformat": 4,
 "nbformat_minor": 2
}
